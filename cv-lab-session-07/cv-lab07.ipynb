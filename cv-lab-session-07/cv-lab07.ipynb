{
 "cells": [
  {
   "cell_type": "markdown",
   "metadata": {},
   "source": [
    "## Hough Line Transform"
   ]
  },
  {
   "cell_type": "code",
   "execution_count": 21,
   "metadata": {},
   "outputs": [],
   "source": [
    "import numpy as np\n",
    "import cv2\n",
    "\n",
    "def draw_line(I,rho,theta):\n",
    "    \"draws a line in image 'I' given 'rho' and 'theta'\"\n",
    "    a = np.cos(theta)\n",
    "    b = np.sin(theta)\n",
    "    x0 = a*rho\n",
    "    y0 = b*rho\n",
    "    x1 = int(x0 + 1000*(-b))\n",
    "    y1 = int(y0 + 1000*(a))\n",
    "    x2 = int(x0 - 1000*(-b))\n",
    "    y2 = int(y0 - 1000*(a))\n",
    "    \n",
    "    cv2.line(I,(x1,y1),(x2,y2),(0,0,255),1)\n",
    "\n",
    "    \n",
    "I = cv2.imread('highway.jpg')\n",
    "\n",
    "G = cv2.cvtColor(I,cv2.COLOR_BGR2GRAY) # -> grayscale\n",
    "\n",
    "E = cv2.Canny(G,100,200) # find the edges\n",
    "\n",
    "min_votes = 160 # mininum votes to be considered a line\n",
    "distance_resolution = 1 # 1 pixel: resolution of the parameter \"rho\" (distance to origin)\n",
    "angle_resolution = np.pi/180 # pi/180 radians: resolution (bin size) of the parameter \"theta\" \n",
    "L = cv2.HoughLines(E,distance_resolution,angle_resolution,min_votes)\n",
    "\n",
    "# draw the lines \n",
    "for [[rho,theta]] in L:\n",
    "    draw_line(I,rho,theta)\n",
    "\n",
    "cv2.imshow(\"E\",E)\n",
    "cv2.imshow(\"I\",I)\n",
    "cv2.waitKey(0)\n",
    "cv2.destroyAllWindows()\n"
   ]
  },
  {
   "cell_type": "markdown",
   "metadata": {},
   "source": [
    "## Hough Circle Transform"
   ]
  },
  {
   "cell_type": "code",
   "execution_count": 1,
   "metadata": {},
   "outputs": [],
   "source": [
    "import numpy as np\n",
    "import cv2\n",
    "\n",
    "I = cv2.imread('samand.jpg')\n",
    "\n",
    "G = cv2.cvtColor(I,cv2.COLOR_BGR2GRAY) # -> Grayscale\n",
    "G = cv2.GaussianBlur(G, (3,3), 0);     # Gaussian blur\n",
    "\n",
    "canny_high_threshold = 200 \n",
    "min_votes = 100 # minimum no. of votes to be considered as a circle\n",
    "min_centre_distance = 10 # minimum distance between the centres of detected circles\n",
    "resolution = 1# resolution of parameters (centre, radius) relative to image resolution\n",
    "circles = cv2.HoughCircles(G,cv2.HOUGH_GRADIENT,resolution,min_centre_distance,\n",
    "                           param1=canny_high_threshold,\n",
    "                           param2=min_votes,minRadius=0,maxRadius=100)\n",
    "\n",
    "# for opencv 2 use cv2.cv.CV_HOUGH_GRADIENT instead of cv2.HOUGH_GRADIENT\n",
    "\n",
    "for c in circles[0,:]:\n",
    "    x = c[0] # x coordinate of the centre\n",
    "    y = c[1] # y coordinate of the centre\n",
    "    r = c[2]  # radius\n",
    "   \n",
    "    # draw the circle\n",
    "    cv2.circle(I,(x,y), r, (0,255,0),2)\n",
    "\n",
    "    # draw the circle center \n",
    "    cv2.circle(I,(x,y),2,(0,0,255),2)\n",
    "\n",
    "\n",
    "cv2.imshow(\"I\",I)\n",
    "cv2.waitKey(0)\n",
    "cv2.destroyAllWindows()"
   ]
  },
  {
   "cell_type": "markdown",
   "metadata": {},
   "source": [
    "## TASK 1"
   ]
  },
  {
   "cell_type": "code",
   "execution_count": 3,
   "metadata": {},
   "outputs": [
    {
     "name": "stdout",
     "output_type": "stream",
     "text": [
      "(1, 2)\n"
     ]
    }
   ],
   "source": [
    "import numpy as np\n",
    "import cv2\n",
    "\n",
    "I = cv2.imread('coins.jpg')\n",
    "G = cv2.cvtColor(I,cv2.COLOR_BGR2GRAY)\n",
    "G = cv2.GaussianBlur(G, (5,5), 0);\n",
    "\n",
    "canny_high_threshold = 160\n",
    "min_votes = 30 # minimum no. of votes to be considered as a circle\n",
    "min_centre_distance = 40\n",
    "\n",
    "circles = np.array([[10,10]])\n",
    "\n",
    "for c in circles[0,:]:\n",
    "    x = 100\n",
    "    y = 100\n",
    "    r = 40\n",
    "    cv2.circle(I,(x,y), r, (0,255,0),2)\n",
    "\n",
    "print circles.shape\n",
    "    \n",
    "n = 100\n",
    "font = cv2.FONT_HERSHEY_SIMPLEX\n",
    "cv2.putText(I,'There are %d coins!'%n,(400,40), font, 1,(255,0,0),2)\n",
    "\n",
    "cv2.imshow(\"I\",I)\n",
    "cv2.waitKey(0)\n",
    "cv2.destroyAllWindows()"
   ]
  },
  {
   "cell_type": "code",
   "execution_count": 4,
   "metadata": {},
   "outputs": [],
   "source": [
    "import numpy as np\n",
    "import cv2\n",
    "\n",
    "I = cv2.imread('coins.jpg')\n",
    "G = cv2.cvtColor(I,cv2.COLOR_BGR2GRAY)\n",
    "G = cv2.GaussianBlur(G, (5,5), 0);\n",
    "\n",
    "canny_high_threshold = 180\n",
    "min_votes = 30 # minimum no. of votes to be considered as a circle\n",
    "min_centre_distance = 40\n",
    "\n",
    "circles = cv2.HoughCircles(G, cv2.HOUGH_GRADIENT, 1, min_centre_distance, param1=canny_high_threshold, param2=min_votes, minRadius=0, maxRadius=100)\n",
    "\n",
    "for c in circles[0,:]:\n",
    "    x = c[0]\n",
    "    y = c[1]\n",
    "    r = c[2]\n",
    "    cv2.circle(I,(x,y), r, (0,255,0),2)\n",
    "    cv2.circle(I, (x,y), 2, (255,0,0),2)\n",
    "    \n",
    "n = len(circles[0])\n",
    "font = cv2.FONT_HERSHEY_COMPLEX\n",
    "# font = cv2.FONT_HERSHEY_SIMPLEX # for opencv 3.x\n",
    "cv2.putText(I,'There are %d coins!'%n,(400,40), font, 1,(255,0,0),2)\n",
    "\n",
    "cv2.imshow(\"I\",I)\n",
    "cv2.waitKey(0)\n",
    "cv2.destroyAllWindows()"
   ]
  },
  {
   "cell_type": "code",
   "execution_count": null,
   "metadata": {},
   "outputs": [],
   "source": []
  }
 ],
 "metadata": {
  "kernelspec": {
   "display_name": "Python 2",
   "language": "python",
   "name": "python2"
  },
  "language_info": {
   "codemirror_mode": {
    "name": "ipython",
    "version": 2
   },
   "file_extension": ".py",
   "mimetype": "text/x-python",
   "name": "python",
   "nbconvert_exporter": "python",
   "pygments_lexer": "ipython2",
   "version": "2.7.12"
  }
 },
 "nbformat": 4,
 "nbformat_minor": 2
}
