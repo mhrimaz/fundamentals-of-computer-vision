{
 "cells": [
  {
   "cell_type": "markdown",
   "metadata": {},
   "source": [
    "# Adding Gausian Blur to an Image"
   ]
  },
  {
   "cell_type": "code",
   "execution_count": 1,
   "metadata": {},
   "outputs": [],
   "source": [
    "# Introduction to Computer Vision (Undergrad)\n",
    "# School of Computer Engineering\n",
    "# K.N. Toosi University of Technology\n",
    "\n",
    "import numpy as np\n",
    "import cv2\n",
    "\n",
    "#by default image is rgb\n",
    "I = cv2.imread('isfahan.jpg', cv2.IMREAD_GRAYSCALE);\n",
    "\n",
    "# convert I to floating point from unsigned integer\n",
    "# Note: For displaying floating point images the maximum\n",
    "# intensity has to be 1 instead of 255\n",
    "# convert to floating point and put into the range of [0,1]\n",
    "I = I.astype(np.float) / 255\n",
    "\n",
    "\n",
    "# create the noise image\n",
    "sigma = 10 # notice maximum intensity is 1\n",
    "N = np.random.randn(*I.shape) * sigma\n",
    "# * opertator unpack array\n",
    "\n",
    "\n",
    "# add noise to the original image\n",
    "J = I+N; # or use cv2.add(I,N);\n",
    "\n",
    "cv2.imshow('original',I)\n",
    "cv2.waitKey(0) # press any key to exit\n",
    "\n",
    "cv2.imshow('noisy image',J)\n",
    "cv2.waitKey(0) # press any key to exit\n",
    "\n",
    "cv2.destroyAllWindows()\n"
   ]
  },
  {
   "cell_type": "code",
   "execution_count": 2,
   "metadata": {},
   "outputs": [
    {
     "data": {
      "text/plain": [
       "array([[-0.0069093 , -0.00249939,  0.02044273,  0.00092371],\n",
       "       [ 0.00427555,  0.00239688,  0.01748823,  0.00469716]])"
      ]
     },
     "execution_count": 2,
     "metadata": {},
     "output_type": "execute_result"
    }
   ],
   "source": [
    "# random gausian with mean 0 and variance 1\n",
    "np.random.randn(2, 4 ) * 0.01\n"
   ]
  },
  {
   "cell_type": "markdown",
   "metadata": {},
   "source": [
    "# Task 1"
   ]
  },
  {
   "cell_type": "code",
   "execution_count": 3,
   "metadata": {},
   "outputs": [],
   "source": [
    "import numpy as np\n",
    "import cv2\n",
    "\n",
    "I = cv2.imread('isfahan.jpg', cv2.IMREAD_GRAYSCALE);\n",
    "I = I.astype(np.float) / 255\n",
    "\n",
    "sigma = 0.04 # initial standard deviation of noise \n",
    "\n",
    "while True:\n",
    "    N = np.random.randn(*I.shape) * sigma\n",
    "    # * opertator unpack array\n",
    "\n",
    "\n",
    "    # add noise to the original image\n",
    "    J = I+N; # or use cv2.add(I,N);\n",
    "    \n",
    "    cv2.imshow('snow noise',J)\n",
    "    \n",
    "    # press any key to exit\n",
    "    key = cv2.waitKey(33)\n",
    "    if key & 0xFF == ord('u'): # if 'u' is pressed \n",
    "        sigma+= 0.01\n",
    "        pass # increase noise\n",
    "    elif key & 0xFF == ord('d'):  # if 'd' is pressed \n",
    "        if sigma >= 0:\n",
    "            sigma-= 0.01\n",
    "        pass # decrease noise \n",
    "    elif key & 0xFF == ord('q'):  # if 'q' is pressed then \n",
    "        break # quit\n",
    "    \n",
    "cv2.destroyAllWindows()"
   ]
  },
  {
   "cell_type": "markdown",
   "metadata": {},
   "source": [
    "# Image Smoothing/Bluring"
   ]
  },
  {
   "cell_type": "code",
   "execution_count": 5,
   "metadata": {},
   "outputs": [],
   "source": [
    "import numpy as np\n",
    "import cv2\n",
    "\n",
    "I = cv2.imread('isfahan.jpg').astype(np.float64) / 255;\n",
    "\n",
    "# display the original image\n",
    "cv2.imshow('original',I)\n",
    "cv2.waitKey()\n",
    "\n",
    "\n",
    "# creating a box filter\n",
    "m = 1 # choose filter size\n",
    "\n",
    "while m<50:\n",
    "    # create an m by m box filter\n",
    "    # division is for filter adjuctment because \n",
    "    # the sum should be one so we are literally averaging\n",
    "    F = np.ones((m,m), np.float64)/(m*m)\n",
    "    #print F\n",
    "    \n",
    "    # Now, filter the image\n",
    "    J = cv2.filter2D(I,-1, F)\n",
    "    cv2.imshow('blurred',J)\n",
    "    cv2.waitKey()\n",
    "    m+=2\n",
    "\n",
    "cv2.destroyAllWindows()"
   ]
  },
  {
   "cell_type": "code",
   "execution_count": 6,
   "metadata": {},
   "outputs": [
    {
     "data": {
      "text/plain": [
       "array([[ 1.,  1.,  1.,  1.],\n",
       "       [ 1.,  1.,  1.,  1.],\n",
       "       [ 1.,  1.,  1.,  1.],\n",
       "       [ 1.,  1.,  1.,  1.]])"
      ]
     },
     "execution_count": 6,
     "metadata": {},
     "output_type": "execute_result"
    }
   ],
   "source": [
    "np.ones((4,4), np.float64)"
   ]
  },
  {
   "cell_type": "code",
   "execution_count": 7,
   "metadata": {},
   "outputs": [
    {
     "data": {
      "text/plain": [
       "array([[ 0.0625,  0.0625,  0.0625,  0.0625],\n",
       "       [ 0.0625,  0.0625,  0.0625,  0.0625],\n",
       "       [ 0.0625,  0.0625,  0.0625,  0.0625],\n",
       "       [ 0.0625,  0.0625,  0.0625,  0.0625]])"
      ]
     },
     "execution_count": 7,
     "metadata": {},
     "output_type": "execute_result"
    }
   ],
   "source": [
    "np.ones((4,4), np.float64) / (4*4)"
   ]
  },
  {
   "cell_type": "code",
   "execution_count": 8,
   "metadata": {},
   "outputs": [
    {
     "data": {
      "text/plain": [
       "1.0"
      ]
     },
     "execution_count": 8,
     "metadata": {},
     "output_type": "execute_result"
    }
   ],
   "source": [
    "np.sum(np.ones((4,4), np.float64) / (4*4))"
   ]
  },
  {
   "cell_type": "markdown",
   "metadata": {},
   "source": [
    "# Smoothing with Gaussian Kernel"
   ]
  },
  {
   "cell_type": "code",
   "execution_count": 9,
   "metadata": {
    "scrolled": true
   },
   "outputs": [
    {
     "name": "stdout",
     "output_type": "stream",
     "text": [
      "Before Dot:  [[ 0.03125 ]\n",
      " [ 0.109375]\n",
      " [ 0.21875 ]\n",
      " [ 0.28125 ]\n",
      " [ 0.21875 ]\n",
      " [ 0.109375]\n",
      " [ 0.03125 ]]\n",
      "(7, 1)\n",
      "After Dot:  [[ 0.00097656  0.00341797  0.00683594  0.00878906  0.00683594  0.00341797\n",
      "   0.00097656]\n",
      " [ 0.00341797  0.01196289  0.02392578  0.03076172  0.02392578  0.01196289\n",
      "   0.00341797]\n",
      " [ 0.00683594  0.02392578  0.04785156  0.06152344  0.04785156  0.02392578\n",
      "   0.00683594]\n",
      " [ 0.00878906  0.03076172  0.06152344  0.07910156  0.06152344  0.03076172\n",
      "   0.00878906]\n",
      " [ 0.00683594  0.02392578  0.04785156  0.06152344  0.04785156  0.02392578\n",
      "   0.00683594]\n",
      " [ 0.00341797  0.01196289  0.02392578  0.03076172  0.02392578  0.01196289\n",
      "   0.00341797]\n",
      " [ 0.00097656  0.00341797  0.00683594  0.00878906  0.00683594  0.00341797\n",
      "   0.00097656]]\n",
      "(7, 7)\n"
     ]
    }
   ],
   "source": [
    "import numpy as np\n",
    "import cv2\n",
    "\n",
    "I = cv2.imread('isfahan.jpg').astype(np.float64) / 255;\n",
    "\n",
    "m = 7; # we will create an m by m filter\n",
    "\n",
    "# create a 1D Gaussian filter\n",
    "Fg = cv2.getGaussianKernel(m, sigma=-1);\n",
    "# by setting sigma=-1, the value of sigma is computed \n",
    "# automatically as: sigma = 0.3*((ksize-1)*0.5 - 1) + 0.8\n",
    "\n",
    "print 'Before Dot: ',Fg\n",
    "print Fg.shape # Fg is 1-dimensional (m by 1)\n",
    "\n",
    "\n",
    "\n",
    "# Now we create a 2D filter\n",
    "# We use matrix multiplication to create an m by m 2D filter\n",
    "# out of \"m by 1\" and \"1 by m\" 1D filters, which in this case happens\n",
    "# to be the same thing as correlation between 1D filters\n",
    "Fg =  Fg.dot(Fg.T) # an \"m by 1\" matrix multiplied by a \"1 by m\" matrix\n",
    "\n",
    "print 'After Dot: ',Fg\n",
    "print Fg.shape\n",
    "\n",
    "\n",
    "\n",
    "# filter the image with the Gaussian filter\n",
    "Jg = cv2.filter2D(I,-1, Fg)\n",
    "\n",
    "cv2.imshow('original',I)\n",
    "cv2.waitKey()\n",
    "\n",
    "cv2.imshow('blurred_Gaussian',Jg)\n",
    "cv2.waitKey()\n",
    "\n",
    "cv2.destroyAllWindows()"
   ]
  },
  {
   "cell_type": "markdown",
   "metadata": {},
   "source": [
    "# Task 2"
   ]
  },
  {
   "cell_type": "code",
   "execution_count": 10,
   "metadata": {},
   "outputs": [],
   "source": [
    "import numpy as np\n",
    "import cv2\n",
    "\n",
    "I = cv2.imread('isfahan.jpg').astype(np.float64) / 255;\n",
    "\n",
    "noise_sigma = 0.04 # initial standard deviation of noise\n",
    "\n",
    "m = 1; # initial filter size,\n",
    "# with m = 1 the input image will not change\n",
    "\n",
    "filter = 'b' # box filter\n",
    "\n",
    "while True:\n",
    "   \n",
    "    if filter == 'b':\n",
    "        # filter with a box filter\n",
    "        F = np.ones((m,m), np.float64)/(m*m)\n",
    "        \n",
    "    elif filter == 'g':  \n",
    "        F = cv2.getGaussianKernel(m, sigma=-1);\n",
    "        F =  F.dot(F.T)\n",
    "        # filter with a Gaussian filter\n",
    "        pass\n",
    "    \n",
    "    # add noise to image\n",
    "    N = np.random.randn(*I.shape) * noise_sigma\n",
    "    J = I + N;\n",
    "    \n",
    "\n",
    "    # filtered image\n",
    "    K = cv2.filter2D(J, -1, F);\n",
    "    \n",
    "\n",
    "    cv2.imshow('img', K)\n",
    "    key = cv2.waitKey(30) & 0xFF\n",
    "        \n",
    "\n",
    "    if key == ord('b'):\n",
    "        filter = 'b' # box filter\n",
    "        print 'Box filter'\n",
    "        \n",
    "    elif key == ord('g'):  \n",
    "        filter = 'g' # filter with a Gaussian filter\n",
    "        print 'Gaussian filter'\n",
    "\n",
    "    elif key == ord('+'):\n",
    "        # increase m\n",
    "        m = m + 2\n",
    "        print 'm= ',m\n",
    "\n",
    "    elif key == ord('-'):\n",
    "        # decrease m\n",
    "        if m >= 3:\n",
    "            m = m - 2\n",
    "        print 'm= ', m\n",
    "\n",
    "    elif key == ord('u'):\n",
    "        noise_sigma+= 0.01\n",
    "        \n",
    "    elif key  == ord('d'):  # if 'd' is pressed \n",
    "        if noise_sigma >= 0:\n",
    "            noise_sigma-= 0.01\n",
    "        \n",
    "\n",
    "    elif key == ord('q'): \n",
    "        break # quit\n",
    "\n",
    "cv2.destroyAllWindows()"
   ]
  }
 ],
 "metadata": {
  "kernelspec": {
   "display_name": "Python 2",
   "language": "python",
   "name": "python2"
  },
  "language_info": {
   "codemirror_mode": {
    "name": "ipython",
    "version": 2
   },
   "file_extension": ".py",
   "mimetype": "text/x-python",
   "name": "python",
   "nbconvert_exporter": "python",
   "pygments_lexer": "ipython2",
   "version": "2.7.12"
  }
 },
 "nbformat": 4,
 "nbformat_minor": 2
}
